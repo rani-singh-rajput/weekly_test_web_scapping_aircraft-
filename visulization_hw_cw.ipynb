{
 "cells": [
  {
   "cell_type": "code",
   "execution_count": 20,
   "id": "34ebde52-b865-454b-8bbf-1d17b5afc6ba",
   "metadata": {},
   "outputs": [],
   "source": [
    "#rani\n",
    "import pandas as pd     \n",
    "import matplotlib.pyplot as mp  \n",
    "import seaborn as sb   \n",
    "import numpy as np    \n"
   ]
  },
  {
   "cell_type": "code",
   "execution_count": 22,
   "id": "77634298-4829-4261-a11a-217e90023a6d",
   "metadata": {},
   "outputs": [
    {
     "data": {
      "text/html": [
       "<div>\n",
       "<style scoped>\n",
       "    .dataframe tbody tr th:only-of-type {\n",
       "        vertical-align: middle;\n",
       "    }\n",
       "\n",
       "    .dataframe tbody tr th {\n",
       "        vertical-align: top;\n",
       "    }\n",
       "\n",
       "    .dataframe thead th {\n",
       "        text-align: right;\n",
       "    }\n",
       "</style>\n",
       "<table border=\"1\" class=\"dataframe\">\n",
       "  <thead>\n",
       "    <tr style=\"text-align: right;\">\n",
       "      <th></th>\n",
       "      <th>Date</th>\n",
       "      <th>Open</th>\n",
       "      <th>High</th>\n",
       "      <th>Low</th>\n",
       "      <th>Close</th>\n",
       "      <th>Adj Close</th>\n",
       "      <th>Volume</th>\n",
       "    </tr>\n",
       "  </thead>\n",
       "  <tbody>\n",
       "    <tr>\n",
       "      <th>0</th>\n",
       "      <td>2006-01-03</td>\n",
       "      <td>46.919998</td>\n",
       "      <td>47.180000</td>\n",
       "      <td>46.150002</td>\n",
       "      <td>47.080002</td>\n",
       "      <td>34.811729</td>\n",
       "      <td>16296700</td>\n",
       "    </tr>\n",
       "    <tr>\n",
       "      <th>1</th>\n",
       "      <td>2006-01-04</td>\n",
       "      <td>47.000000</td>\n",
       "      <td>47.240002</td>\n",
       "      <td>46.450001</td>\n",
       "      <td>46.580002</td>\n",
       "      <td>34.442013</td>\n",
       "      <td>17757900</td>\n",
       "    </tr>\n",
       "    <tr>\n",
       "      <th>2</th>\n",
       "      <td>2006-01-05</td>\n",
       "      <td>46.580002</td>\n",
       "      <td>46.830002</td>\n",
       "      <td>46.320000</td>\n",
       "      <td>46.639999</td>\n",
       "      <td>34.486385</td>\n",
       "      <td>14970700</td>\n",
       "    </tr>\n",
       "    <tr>\n",
       "      <th>3</th>\n",
       "      <td>2006-01-06</td>\n",
       "      <td>46.799999</td>\n",
       "      <td>46.910000</td>\n",
       "      <td>46.349998</td>\n",
       "      <td>46.570000</td>\n",
       "      <td>34.434616</td>\n",
       "      <td>12599800</td>\n",
       "    </tr>\n",
       "    <tr>\n",
       "      <th>4</th>\n",
       "      <td>2006-01-09</td>\n",
       "      <td>46.720001</td>\n",
       "      <td>46.970001</td>\n",
       "      <td>46.360001</td>\n",
       "      <td>46.599998</td>\n",
       "      <td>34.456806</td>\n",
       "      <td>15619400</td>\n",
       "    </tr>\n",
       "    <tr>\n",
       "      <th>...</th>\n",
       "      <td>...</td>\n",
       "      <td>...</td>\n",
       "      <td>...</td>\n",
       "      <td>...</td>\n",
       "      <td>...</td>\n",
       "      <td>...</td>\n",
       "      <td>...</td>\n",
       "    </tr>\n",
       "    <tr>\n",
       "      <th>3518</th>\n",
       "      <td>2019-12-24</td>\n",
       "      <td>35.189999</td>\n",
       "      <td>35.279999</td>\n",
       "      <td>35.119999</td>\n",
       "      <td>35.220001</td>\n",
       "      <td>34.513897</td>\n",
       "      <td>13805400</td>\n",
       "    </tr>\n",
       "    <tr>\n",
       "      <th>3519</th>\n",
       "      <td>2019-12-26</td>\n",
       "      <td>35.320000</td>\n",
       "      <td>35.560001</td>\n",
       "      <td>35.290001</td>\n",
       "      <td>35.520000</td>\n",
       "      <td>34.807880</td>\n",
       "      <td>26992100</td>\n",
       "    </tr>\n",
       "    <tr>\n",
       "      <th>3520</th>\n",
       "      <td>2019-12-27</td>\n",
       "      <td>35.700001</td>\n",
       "      <td>35.720001</td>\n",
       "      <td>35.259998</td>\n",
       "      <td>35.349998</td>\n",
       "      <td>34.641285</td>\n",
       "      <td>28111300</td>\n",
       "    </tr>\n",
       "    <tr>\n",
       "      <th>3521</th>\n",
       "      <td>2019-12-30</td>\n",
       "      <td>35.570000</td>\n",
       "      <td>35.650002</td>\n",
       "      <td>35.090000</td>\n",
       "      <td>35.150002</td>\n",
       "      <td>34.445301</td>\n",
       "      <td>30705100</td>\n",
       "    </tr>\n",
       "    <tr>\n",
       "      <th>3522</th>\n",
       "      <td>2019-12-31</td>\n",
       "      <td>35.029999</td>\n",
       "      <td>35.259998</td>\n",
       "      <td>34.970001</td>\n",
       "      <td>35.220001</td>\n",
       "      <td>34.513897</td>\n",
       "      <td>29630100</td>\n",
       "    </tr>\n",
       "  </tbody>\n",
       "</table>\n",
       "<p>3523 rows × 7 columns</p>\n",
       "</div>"
      ],
      "text/plain": [
       "            Date       Open       High        Low      Close  Adj Close  \\\n",
       "0     2006-01-03  46.919998  47.180000  46.150002  47.080002  34.811729   \n",
       "1     2006-01-04  47.000000  47.240002  46.450001  46.580002  34.442013   \n",
       "2     2006-01-05  46.580002  46.830002  46.320000  46.639999  34.486385   \n",
       "3     2006-01-06  46.799999  46.910000  46.349998  46.570000  34.434616   \n",
       "4     2006-01-09  46.720001  46.970001  46.360001  46.599998  34.456806   \n",
       "...          ...        ...        ...        ...        ...        ...   \n",
       "3518  2019-12-24  35.189999  35.279999  35.119999  35.220001  34.513897   \n",
       "3519  2019-12-26  35.320000  35.560001  35.290001  35.520000  34.807880   \n",
       "3520  2019-12-27  35.700001  35.720001  35.259998  35.349998  34.641285   \n",
       "3521  2019-12-30  35.570000  35.650002  35.090000  35.150002  34.445301   \n",
       "3522  2019-12-31  35.029999  35.259998  34.970001  35.220001  34.513897   \n",
       "\n",
       "        Volume  \n",
       "0     16296700  \n",
       "1     17757900  \n",
       "2     14970700  \n",
       "3     12599800  \n",
       "4     15619400  \n",
       "...        ...  \n",
       "3518  13805400  \n",
       "3519  26992100  \n",
       "3520  28111300  \n",
       "3521  30705100  \n",
       "3522  29630100  \n",
       "\n",
       "[3523 rows x 7 columns]"
      ]
     },
     "execution_count": 22,
     "metadata": {},
     "output_type": "execute_result"
    }
   ],
   "source": [
    "data=pd.read_csv(\"BAC.csv\")\n",
    "data #rani\n"
   ]
  },
  {
   "cell_type": "code",
   "execution_count": 17,
   "id": "4e855b9f-008a-474c-9d27-f5dea9c35d96",
   "metadata": {},
   "outputs": [
    {
     "name": "stdout",
     "output_type": "stream",
     "text": [
      "Date         0\n",
      "Open         0\n",
      "High         0\n",
      "Low          0\n",
      "Close        0\n",
      "Adj Close    0\n",
      "Volume       0\n",
      "dtype: int64\n",
      "              Open         High          Low        Close    Adj Close  \\\n",
      "count  3523.000000  3523.000000  3523.000000  3523.000000  3523.000000   \n",
      "mean     22.957905    23.220247    22.669631    22.938135    19.851501   \n",
      "std      13.409170    13.492552    13.321380    13.410517    10.426581   \n",
      "min       3.220000     3.510000     2.530000     3.140000     2.759305   \n",
      "25%      13.620000    13.790000    13.395000    13.560000    12.181610   \n",
      "50%      16.980000    17.150000    16.760000    16.950001    15.180848   \n",
      "75%      29.915000    30.185001    29.540001    29.875000    28.225653   \n",
      "max      55.040001    55.080002    54.820000    54.900002    42.099216   \n",
      "\n",
      "             Volume  \n",
      "count  3.523000e+03  \n",
      "mean   1.174800e+08  \n",
      "std    1.130062e+08  \n",
      "min    4.835400e+06  \n",
      "25%    5.063375e+07  \n",
      "50%    8.519980e+07  \n",
      "75%    1.468264e+08  \n",
      "max    1.226791e+09  \n"
     ]
    }
   ],
   "source": [
    "print(data.isnull().sum())\n",
    "print(data.describe())  #rani\n"
   ]
  },
  {
   "cell_type": "code",
   "execution_count": 25,
   "id": "8df98885-8031-4fa8-9315-bf45c536f6bb",
   "metadata": {},
   "outputs": [
    {
     "name": "stdout",
     "output_type": "stream",
     "text": [
      "Requirement already satisfied: mplfinance in c:\\users\\ranis\\anaconda3\\lib\\site-packages (0.12.10b0)\n",
      "Requirement already satisfied: matplotlib in c:\\users\\ranis\\anaconda3\\lib\\site-packages (from mplfinance) (3.8.4)\n",
      "Requirement already satisfied: pandas in c:\\users\\ranis\\anaconda3\\lib\\site-packages (from mplfinance) (2.2.2)\n",
      "Requirement already satisfied: contourpy>=1.0.1 in c:\\users\\ranis\\anaconda3\\lib\\site-packages (from matplotlib->mplfinance) (1.2.0)\n",
      "Requirement already satisfied: cycler>=0.10 in c:\\users\\ranis\\anaconda3\\lib\\site-packages (from matplotlib->mplfinance) (0.11.0)\n",
      "Requirement already satisfied: fonttools>=4.22.0 in c:\\users\\ranis\\anaconda3\\lib\\site-packages (from matplotlib->mplfinance) (4.51.0)\n",
      "Requirement already satisfied: kiwisolver>=1.3.1 in c:\\users\\ranis\\anaconda3\\lib\\site-packages (from matplotlib->mplfinance) (1.4.4)\n",
      "Requirement already satisfied: numpy>=1.21 in c:\\users\\ranis\\anaconda3\\lib\\site-packages (from matplotlib->mplfinance) (1.26.4)\n",
      "Requirement already satisfied: packaging>=20.0 in c:\\users\\ranis\\appdata\\roaming\\python\\python312\\site-packages (from matplotlib->mplfinance) (24.1)\n",
      "Requirement already satisfied: pillow>=8 in c:\\users\\ranis\\anaconda3\\lib\\site-packages (from matplotlib->mplfinance) (10.3.0)\n",
      "Requirement already satisfied: pyparsing>=2.3.1 in c:\\users\\ranis\\anaconda3\\lib\\site-packages (from matplotlib->mplfinance) (3.0.9)\n",
      "Requirement already satisfied: python-dateutil>=2.7 in c:\\users\\ranis\\appdata\\roaming\\python\\python312\\site-packages (from matplotlib->mplfinance) (2.9.0.post0)\n",
      "Requirement already satisfied: pytz>=2020.1 in c:\\users\\ranis\\anaconda3\\lib\\site-packages (from pandas->mplfinance) (2024.1)\n",
      "Requirement already satisfied: tzdata>=2022.7 in c:\\users\\ranis\\anaconda3\\lib\\site-packages (from pandas->mplfinance) (2023.3)\n",
      "Requirement already satisfied: six>=1.5 in c:\\users\\ranis\\appdata\\roaming\\python\\python312\\site-packages (from python-dateutil>=2.7->matplotlib->mplfinance) (1.16.0)\n",
      "Note: you may need to restart the kernel to use updated packages.\n"
     ]
    }
   ],
   "source": [
    "pip install mplfinance  #rani\n"
   ]
  },
  {
   "cell_type": "code",
   "execution_count": 34,
   "id": "3bb64c50-ef88-44f1-a96e-a333c1688e52",
   "metadata": {},
   "outputs": [
    {
     "name": "stdout",
     "output_type": "stream",
     "text": [
      "Index(['Open', 'High', 'Low', 'Close', 'Adj Close', 'Volume'], dtype='object')\n"
     ]
    }
   ],
   "source": [
    "print(data.columns)\n"
   ]
  },
  {
   "cell_type": "code",
   "execution_count": 36,
   "id": "d90447e8-4846-4418-8755-44ec70f8b70c",
   "metadata": {},
   "outputs": [],
   "source": [
    "data.columns = data.columns.str.strip()  #rani\n"
   ]
  },
  {
   "cell_type": "code",
   "execution_count": 38,
   "id": "a10b7136-b24d-493a-b358-86086ec0b7e0",
   "metadata": {},
   "outputs": [],
   "source": [
    "data.rename(columns={'actual_column_name': 'Date'}, inplace=True)  #rani\n"
   ]
  },
  {
   "cell_type": "code",
   "execution_count": 40,
   "id": "8e790c2e-d3ad-40c1-9ef1-a6a7d948d8bc",
   "metadata": {},
   "outputs": [
    {
     "name": "stdout",
     "output_type": "stream",
     "text": [
      "                 Open       High        Low      Close  Adj Close    Volume\n",
      "Date                                                                       \n",
      "2006-01-03  46.919998  47.180000  46.150002  47.080002  34.811729  16296700\n",
      "2006-01-04  47.000000  47.240002  46.450001  46.580002  34.442013  17757900\n",
      "2006-01-05  46.580002  46.830002  46.320000  46.639999  34.486385  14970700\n",
      "2006-01-06  46.799999  46.910000  46.349998  46.570000  34.434616  12599800\n",
      "2006-01-09  46.720001  46.970001  46.360001  46.599998  34.456806  15619400\n"
     ]
    }
   ],
   "source": [
    "print(data.head())\n",
    "  #rani"
   ]
  },
  {
   "cell_type": "code",
   "execution_count": 50,
   "id": "05d94d26-b174-4505-9c18-bc1789936e40",
   "metadata": {},
   "outputs": [
    {
     "name": "stdout",
     "output_type": "stream",
     "text": [
      "Index(['Date', 'Open', 'High', 'Low', 'Close', 'Adj Close', 'Volume'], dtype='object')\n"
     ]
    }
   ],
   "source": [
    "data.reset_index(inplace=True)  #rani\n",
    "print(data.columns)\n"
   ]
  },
  {
   "cell_type": "code",
   "execution_count": 84,
   "id": "52336d02-3ba5-48a5-b0e1-ca61b1debd3e",
   "metadata": {},
   "outputs": [
    {
     "data": {
      "image/png": "[encoded data removed]",
      "text/plain": [
       "<Figure size 1200x500 with 1 Axes>"
      ]
     },
     "metadata": {},
     "output_type": "display_data"
    }
   ],
   "source": [
    "mp.figure(figsize=(12,5))  #rani\n",
    "mp.bar(data.index, data['Volume'], color='gray')\n",
    "mp.xlabel('Date')\n",
    "mp.ylabel('Trading Volume')\n",
    "mp.title('Trading Volume Over Time')\n",
    "mp.show()\n"
   ]
  },
  {
   "cell_type": "code",
   "execution_count": 52,
   "id": "db034c65-3808-4b30-bdf9-54d0f661bec8",
   "metadata": {},
   "outputs": [
    {
     "name": "stdout",
     "output_type": "stream",
     "text": [
      "Columns 'AAPL' and/or 'MSFT' are missing\n"
     ]
    }
   ],
   "source": [
    "if 'Date' not in data.columns:   #rani\n",
    "    data.reset_index(inplace=True)\n",
    "if 'Date' in data.columns:\n",
    "    data['Date'] = pd.to_datetime(data['Date'], errors='coerce')\n",
    "    data.set_index('Date', inplace=True)\n",
    "else:\n",
    "    print(\"Column 'Date' is missing\")\n",
    "if 'AAPL' in data.columns and 'MSFT' in data.columns:\n",
    "    import matplotlib.pyplot as plt\n",
    "\n",
    "    plt.figure(figsize=(8,5))\n",
    "    plt.scatter(data['AAPL'], data['MSFT'], alpha=0.5, color='purple')\n",
    "    plt.xlabel('AAPL Stock Price')\n",
    "    plt.ylabel('MSFT Stock Price')\n",
    "    plt.title('Relationship Between AAPL and MSFT Stock Prices')\n",
    "    plt.show()\n",
    "else:\n",
    "    print(\"Columns 'AAPL' and/or 'MSFT' are missing\")\n"
   ]
  },
  {
   "cell_type": "code",
   "execution_count": 60,
   "id": "2278b76f-b123-452e-ba98-c106d7f0cbe4",
   "metadata": {},
   "outputs": [
    {
     "data": {
      "image/png": "[encoded data removed]",
      "text/plain": [
       "<Figure size 800x500 with 1 Axes>"
      ]
     },
     "metadata": {},
     "output_type": "display_data"
    }
   ],
   "source": [
    "data['Price_Range'] = data['High'] - data['Low']   #rani\n",
    "mp.figure(figsize=(8,5))\n",
    "sb.boxplot(y=data['Price_Range'])\n",
    "mp.title('Daily Price Range')\n",
    "mp.ylabel('Price Range (High - Low)')\n",
    "mp.show()\n"
   ]
  },
  {
   "cell_type": "code",
   "execution_count": 68,
   "id": "9611d972-2bf4-4431-aa78-0c82e37bbb3b",
   "metadata": {},
   "outputs": [
    {
     "data": {
      "image/png": "[encoded data removed]",
      "text/plain": [
       "<Figure size 1000x500 with 1 Axes>"
      ]
     },
     "metadata": {},
     "output_type": "display_data"
    }
   ],
   "source": [
    "mp.figure(figsize=(10,5))   #rani\n",
    "mp.hist(data['Close'], bins=30, color='purple', edgecolor='black')\n",
    "mp.xlabel('Closing Price')\n",
    "mp.ylabel('Frequency')\n",
    "mp.title('Distribution of Closing Prices')\n",
    "mp.show()\n"
   ]
  }
 ],
 "metadata": {
  "kernelspec": {
   "display_name": "Python 3 (ipykernel)",
   "language": "python",
   "name": "python3"
  },
  "language_info": {
   "codemirror_mode": {
    "name": "ipython",
    "version": 3
   },
   "file_extension": ".py",
   "mimetype": "text/x-python",
   "name": "python",
   "nbconvert_exporter": "python",
   "pygments_lexer": "ipython3",
   "version": "3.12.4"
  }
 },
 "nbformat": 4,
 "nbformat_minor": 5
}
